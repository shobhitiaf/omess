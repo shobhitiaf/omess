{
 "cells": [
  {
   "cell_type": "markdown",
   "metadata": {},
   "source": [
    "<h2 style='color:purple' align='center'>Training And Testing Available Data</h2>"
   ]
  },
  {
   "cell_type": "markdown",
   "metadata": {},
   "source": [
    "<p><b>We have a dataset containing prices of used BMW cars. We are going to analyze this dataset\n",
    "and build a prediction function that can predict a price by taking mileage and age of the car\n",
    "as input. We will use sklearn train_test_split method to split training and testing dataset</b></p>"
   ]
  },
  {
   "cell_type": "code",
   "execution_count": 1,
   "metadata": {
    "scrolled": true
   },
   "outputs": [
    {
     "data": {
      "text/html": [
       "<div>\n",
       "<style scoped>\n",
       "    .dataframe tbody tr th:only-of-type {\n",
       "        vertical-align: middle;\n",
       "    }\n",
       "\n",
       "    .dataframe tbody tr th {\n",
       "        vertical-align: top;\n",
       "    }\n",
       "\n",
       "    .dataframe thead th {\n",
       "        text-align: right;\n",
       "    }\n",
       "</style>\n",
       "<table border=\"1\" class=\"dataframe\">\n",
       "  <thead>\n",
       "    <tr style=\"text-align: right;\">\n",
       "      <th></th>\n",
       "      <th>variance</th>\n",
       "      <th>skewness</th>\n",
       "      <th>curtosis</th>\n",
       "      <th>entropy</th>\n",
       "      <th>class</th>\n",
       "    </tr>\n",
       "  </thead>\n",
       "  <tbody>\n",
       "    <tr>\n",
       "      <th>0</th>\n",
       "      <td>-0.89569</td>\n",
       "      <td>3.00250</td>\n",
       "      <td>-3.606700</td>\n",
       "      <td>-3.44570</td>\n",
       "      <td>1</td>\n",
       "    </tr>\n",
       "    <tr>\n",
       "      <th>1</th>\n",
       "      <td>3.47690</td>\n",
       "      <td>-0.15314</td>\n",
       "      <td>2.530000</td>\n",
       "      <td>2.44950</td>\n",
       "      <td>0</td>\n",
       "    </tr>\n",
       "    <tr>\n",
       "      <th>2</th>\n",
       "      <td>3.91020</td>\n",
       "      <td>6.06500</td>\n",
       "      <td>-2.453400</td>\n",
       "      <td>-0.68234</td>\n",
       "      <td>0</td>\n",
       "    </tr>\n",
       "    <tr>\n",
       "      <th>3</th>\n",
       "      <td>0.60731</td>\n",
       "      <td>3.95440</td>\n",
       "      <td>-4.772000</td>\n",
       "      <td>-4.48530</td>\n",
       "      <td>1</td>\n",
       "    </tr>\n",
       "    <tr>\n",
       "      <th>4</th>\n",
       "      <td>2.37180</td>\n",
       "      <td>7.49080</td>\n",
       "      <td>0.015989</td>\n",
       "      <td>-1.74140</td>\n",
       "      <td>0</td>\n",
       "    </tr>\n",
       "  </tbody>\n",
       "</table>\n",
       "</div>"
      ],
      "text/plain": [
       "   variance  skewness  curtosis  entropy  class\n",
       "0  -0.89569   3.00250 -3.606700 -3.44570      1\n",
       "1   3.47690  -0.15314  2.530000  2.44950      0\n",
       "2   3.91020   6.06500 -2.453400 -0.68234      0\n",
       "3   0.60731   3.95440 -4.772000 -4.48530      1\n",
       "4   2.37180   7.49080  0.015989 -1.74140      0"
      ]
     },
     "execution_count": 1,
     "metadata": {},
     "output_type": "execute_result"
    }
   ],
   "source": [
    "import pandas as pd\n",
    "df=pd.read_csv(r\"C:\\Users\\lom\\Desktop\\banknotes.txt\")\n",
    "df.head()"
   ]
  },
  {
   "cell_type": "code",
   "execution_count": 2,
   "metadata": {},
   "outputs": [],
   "source": [
    "import matplotlib.pyplot as plt\n",
    "%matplotlib inline"
   ]
  },
  {
   "cell_type": "markdown",
   "metadata": {},
   "source": [
    "# Bar Chart (Year v/s Growth-Rate)"
   ]
  },
  {
   "cell_type": "code",
   "execution_count": 10,
   "metadata": {
    "scrolled": false
   },
   "outputs": [
    {
     "data": {
      "text/plain": [
       "Text(0.5, 1.0, 'Growth-Rate')"
      ]
     },
     "execution_count": 10,
     "metadata": {},
     "output_type": "execute_result"
    },
    {
     "data": {
      "image/png": "[encoded data removed]",
      "text/plain": [
       "<Figure size 432x288 with 1 Axes>"
      ]
     },
     "metadata": {
      "needs_background": "light"
     },
     "output_type": "display_data"
    }
   ],
   "source": [
    "plt.bar(df['Expenditure'],df['Growth%'])\n",
    "plt.xlabel(\"year\")\n",
    "plt.ylabel(\"Growth%\")\n",
    "plt.title(\"Growth-Rate\")"
   ]
  },
  {
   "cell_type": "markdown",
   "metadata": {},
   "source": []
  },
  {
   "cell_type": "code",
   "execution_count": null,
   "metadata": {
    "scrolled": true
   },
   "outputs": [],
   "source": []
  },
  {
   "cell_type": "markdown",
   "metadata": {},
   "source": [
    "**Looking at above Bar-Chart,we can clearly make out that there is declining pattern. This decline may be attributed to any of the expenditure factors. Let us device a method to predict Growth-rate based on various expenditure factors. "
   ]
  },
  {
   "cell_type": "markdown",
   "metadata": {},
   "source": [
    "<p style='color:purple'><b>The approach we are going to use here is to split available data in two sets</b></p>\n",
    "    <ol>\n",
    "        <b>\n",
    "        <li>Training: We will train our model on this dataset</li>\n",
    "        <li>Testing: We will use this subset to make actual predictions using trained model</li>\n",
    "        </b>\n",
    "     </ol>\n",
    "<p style='color:purple'><b>The reason we don't use same training set for testing is because our model has seen those samples before, using same samples for making predictions might give us wrong impression about accuracy of our model. It is like you ask same questions in exam paper as you taught the students in the class.\n",
    "</b></p>"
   ]
  },
  {
   "cell_type": "code",
   "execution_count": 4,
   "metadata": {},
   "outputs": [],
   "source": [
    "X = df[['variance','skewness','curtosis','entropy']]"
   ]
  },
  {
   "cell_type": "code",
   "execution_count": 5,
   "metadata": {},
   "outputs": [],
   "source": [
    "y = df['class']"
   ]
  },
  {
   "cell_type": "code",
   "execution_count": 6,
   "metadata": {},
   "outputs": [],
   "source": [
    "from sklearn.model_selection import train_test_split\n",
    "X_train, X_test, y_train, y_test = train_test_split(X,y,test_size=0.2) "
   ]
  },
  {
   "cell_type": "code",
   "execution_count": 7,
   "metadata": {
    "scrolled": true
   },
   "outputs": [
    {
     "data": {
      "text/html": [
       "<div>\n",
       "<style scoped>\n",
       "    .dataframe tbody tr th:only-of-type {\n",
       "        vertical-align: middle;\n",
       "    }\n",
       "\n",
       "    .dataframe tbody tr th {\n",
       "        vertical-align: top;\n",
       "    }\n",
       "\n",
       "    .dataframe thead th {\n",
       "        text-align: right;\n",
       "    }\n",
       "</style>\n",
       "<table border=\"1\" class=\"dataframe\">\n",
       "  <thead>\n",
       "    <tr style=\"text-align: right;\">\n",
       "      <th></th>\n",
       "      <th>variance</th>\n",
       "      <th>skewness</th>\n",
       "      <th>curtosis</th>\n",
       "      <th>entropy</th>\n",
       "    </tr>\n",
       "  </thead>\n",
       "  <tbody>\n",
       "    <tr>\n",
       "      <th>929</th>\n",
       "      <td>0.24394</td>\n",
       "      <td>1.47330</td>\n",
       "      <td>-1.41920</td>\n",
       "      <td>-0.58535</td>\n",
       "    </tr>\n",
       "    <tr>\n",
       "      <th>336</th>\n",
       "      <td>-1.25280</td>\n",
       "      <td>10.20360</td>\n",
       "      <td>2.17870</td>\n",
       "      <td>-5.60380</td>\n",
       "    </tr>\n",
       "    <tr>\n",
       "      <th>1344</th>\n",
       "      <td>0.29961</td>\n",
       "      <td>7.13280</td>\n",
       "      <td>-0.31475</td>\n",
       "      <td>-1.18280</td>\n",
       "    </tr>\n",
       "    <tr>\n",
       "      <th>771</th>\n",
       "      <td>-2.21730</td>\n",
       "      <td>1.46710</td>\n",
       "      <td>-0.72689</td>\n",
       "      <td>-1.17240</td>\n",
       "    </tr>\n",
       "    <tr>\n",
       "      <th>933</th>\n",
       "      <td>-2.57240</td>\n",
       "      <td>-0.95602</td>\n",
       "      <td>2.70730</td>\n",
       "      <td>-0.16639</td>\n",
       "    </tr>\n",
       "    <tr>\n",
       "      <th>...</th>\n",
       "      <td>...</td>\n",
       "      <td>...</td>\n",
       "      <td>...</td>\n",
       "      <td>...</td>\n",
       "    </tr>\n",
       "    <tr>\n",
       "      <th>1333</th>\n",
       "      <td>4.02150</td>\n",
       "      <td>-2.19140</td>\n",
       "      <td>2.46480</td>\n",
       "      <td>1.14090</td>\n",
       "    </tr>\n",
       "    <tr>\n",
       "      <th>715</th>\n",
       "      <td>-2.76110</td>\n",
       "      <td>-10.50990</td>\n",
       "      <td>9.02390</td>\n",
       "      <td>-1.95470</td>\n",
       "    </tr>\n",
       "    <tr>\n",
       "      <th>785</th>\n",
       "      <td>2.66820</td>\n",
       "      <td>10.21600</td>\n",
       "      <td>-3.44140</td>\n",
       "      <td>-4.00690</td>\n",
       "    </tr>\n",
       "    <tr>\n",
       "      <th>104</th>\n",
       "      <td>-0.27802</td>\n",
       "      <td>8.18810</td>\n",
       "      <td>-3.13380</td>\n",
       "      <td>-2.52760</td>\n",
       "    </tr>\n",
       "    <tr>\n",
       "      <th>422</th>\n",
       "      <td>2.95430</td>\n",
       "      <td>1.07600</td>\n",
       "      <td>0.64577</td>\n",
       "      <td>0.89394</td>\n",
       "    </tr>\n",
       "  </tbody>\n",
       "</table>\n",
       "<p>1097 rows × 4 columns</p>\n",
       "</div>"
      ],
      "text/plain": [
       "      variance  skewness  curtosis  entropy\n",
       "929    0.24394   1.47330  -1.41920 -0.58535\n",
       "336   -1.25280  10.20360   2.17870 -5.60380\n",
       "1344   0.29961   7.13280  -0.31475 -1.18280\n",
       "771   -2.21730   1.46710  -0.72689 -1.17240\n",
       "933   -2.57240  -0.95602   2.70730 -0.16639\n",
       "...        ...       ...       ...      ...\n",
       "1333   4.02150  -2.19140   2.46480  1.14090\n",
       "715   -2.76110 -10.50990   9.02390 -1.95470\n",
       "785    2.66820  10.21600  -3.44140 -4.00690\n",
       "104   -0.27802   8.18810  -3.13380 -2.52760\n",
       "422    2.95430   1.07600   0.64577  0.89394\n",
       "\n",
       "[1097 rows x 4 columns]"
      ]
     },
     "execution_count": 7,
     "metadata": {},
     "output_type": "execute_result"
    }
   ],
   "source": [
    "X_train"
   ]
  },
  {
   "cell_type": "code",
   "execution_count": 8,
   "metadata": {},
   "outputs": [
    {
     "data": {
      "text/html": [
       "<div>\n",
       "<style scoped>\n",
       "    .dataframe tbody tr th:only-of-type {\n",
       "        vertical-align: middle;\n",
       "    }\n",
       "\n",
       "    .dataframe tbody tr th {\n",
       "        vertical-align: top;\n",
       "    }\n",
       "\n",
       "    .dataframe thead th {\n",
       "        text-align: right;\n",
       "    }\n",
       "</style>\n",
       "<table border=\"1\" class=\"dataframe\">\n",
       "  <thead>\n",
       "    <tr style=\"text-align: right;\">\n",
       "      <th></th>\n",
       "      <th>variance</th>\n",
       "      <th>skewness</th>\n",
       "      <th>curtosis</th>\n",
       "      <th>entropy</th>\n",
       "    </tr>\n",
       "  </thead>\n",
       "  <tbody>\n",
       "    <tr>\n",
       "      <th>1102</th>\n",
       "      <td>2.45270</td>\n",
       "      <td>2.96530</td>\n",
       "      <td>0.20021</td>\n",
       "      <td>-0.056479</td>\n",
       "    </tr>\n",
       "    <tr>\n",
       "      <th>524</th>\n",
       "      <td>-2.82670</td>\n",
       "      <td>-9.04070</td>\n",
       "      <td>9.06940</td>\n",
       "      <td>-0.982330</td>\n",
       "    </tr>\n",
       "    <tr>\n",
       "      <th>780</th>\n",
       "      <td>-0.62684</td>\n",
       "      <td>-6.30100</td>\n",
       "      <td>4.78430</td>\n",
       "      <td>1.106000</td>\n",
       "    </tr>\n",
       "    <tr>\n",
       "      <th>121</th>\n",
       "      <td>-5.87300</td>\n",
       "      <td>9.17520</td>\n",
       "      <td>-0.27448</td>\n",
       "      <td>-6.042200</td>\n",
       "    </tr>\n",
       "    <tr>\n",
       "      <th>438</th>\n",
       "      <td>-0.77995</td>\n",
       "      <td>3.23220</td>\n",
       "      <td>-3.28200</td>\n",
       "      <td>-3.100400</td>\n",
       "    </tr>\n",
       "    <tr>\n",
       "      <th>...</th>\n",
       "      <td>...</td>\n",
       "      <td>...</td>\n",
       "      <td>...</td>\n",
       "      <td>...</td>\n",
       "    </tr>\n",
       "    <tr>\n",
       "      <th>364</th>\n",
       "      <td>4.54470</td>\n",
       "      <td>8.22740</td>\n",
       "      <td>-2.41660</td>\n",
       "      <td>-1.587500</td>\n",
       "    </tr>\n",
       "    <tr>\n",
       "      <th>218</th>\n",
       "      <td>-1.83480</td>\n",
       "      <td>11.03340</td>\n",
       "      <td>3.18630</td>\n",
       "      <td>-4.888800</td>\n",
       "    </tr>\n",
       "    <tr>\n",
       "      <th>262</th>\n",
       "      <td>-2.36290</td>\n",
       "      <td>-0.10554</td>\n",
       "      <td>1.93360</td>\n",
       "      <td>1.135800</td>\n",
       "    </tr>\n",
       "    <tr>\n",
       "      <th>47</th>\n",
       "      <td>-1.99830</td>\n",
       "      <td>-6.60720</td>\n",
       "      <td>4.82540</td>\n",
       "      <td>-0.419840</td>\n",
       "    </tr>\n",
       "    <tr>\n",
       "      <th>26</th>\n",
       "      <td>3.00090</td>\n",
       "      <td>5.81260</td>\n",
       "      <td>-2.23060</td>\n",
       "      <td>-0.665530</td>\n",
       "    </tr>\n",
       "  </tbody>\n",
       "</table>\n",
       "<p>275 rows × 4 columns</p>\n",
       "</div>"
      ],
      "text/plain": [
       "      variance  skewness  curtosis   entropy\n",
       "1102   2.45270   2.96530   0.20021 -0.056479\n",
       "524   -2.82670  -9.04070   9.06940 -0.982330\n",
       "780   -0.62684  -6.30100   4.78430  1.106000\n",
       "121   -5.87300   9.17520  -0.27448 -6.042200\n",
       "438   -0.77995   3.23220  -3.28200 -3.100400\n",
       "...        ...       ...       ...       ...\n",
       "364    4.54470   8.22740  -2.41660 -1.587500\n",
       "218   -1.83480  11.03340   3.18630 -4.888800\n",
       "262   -2.36290  -0.10554   1.93360  1.135800\n",
       "47    -1.99830  -6.60720   4.82540 -0.419840\n",
       "26     3.00090   5.81260  -2.23060 -0.665530\n",
       "\n",
       "[275 rows x 4 columns]"
      ]
     },
     "execution_count": 8,
     "metadata": {},
     "output_type": "execute_result"
    }
   ],
   "source": [
    "X_test"
   ]
  },
  {
   "cell_type": "code",
   "execution_count": 9,
   "metadata": {},
   "outputs": [
    {
     "data": {
      "text/plain": [
       "929     1\n",
       "336     0\n",
       "1344    0\n",
       "771     1\n",
       "933     1\n",
       "       ..\n",
       "1333    0\n",
       "715     1\n",
       "785     0\n",
       "104     0\n",
       "422     0\n",
       "Name: class, Length: 1097, dtype: int64"
      ]
     },
     "execution_count": 9,
     "metadata": {},
     "output_type": "execute_result"
    }
   ],
   "source": [
    "y_train"
   ]
  },
  {
   "cell_type": "code",
   "execution_count": 10,
   "metadata": {},
   "outputs": [
    {
     "data": {
      "text/plain": [
       "1102    0\n",
       "524     1\n",
       "780     1\n",
       "121     1\n",
       "438     1\n",
       "       ..\n",
       "364     0\n",
       "218     0\n",
       "262     1\n",
       "47      1\n",
       "26      0\n",
       "Name: class, Length: 275, dtype: int64"
      ]
     },
     "execution_count": 10,
     "metadata": {},
     "output_type": "execute_result"
    }
   ],
   "source": [
    "y_test"
   ]
  },
  {
   "cell_type": "markdown",
   "metadata": {},
   "source": [
    "**Lets run linear regression model now**"
   ]
  },
  {
   "cell_type": "code",
   "execution_count": 12,
   "metadata": {},
   "outputs": [
    {
     "data": {
      "text/plain": [
       "GaussianNB()"
      ]
     },
     "execution_count": 12,
     "metadata": {},
     "output_type": "execute_result"
    }
   ],
   "source": [
    "from sklearn.naive_bayes import GaussianNB\n",
    "model = GaussianNB()\n",
    "#from sklearn.linear_model import LinearRegression\n",
    "#clf = LinearRegression()\n",
    "model.fit(X_train, y_train)"
   ]
  },
  {
   "cell_type": "code",
   "execution_count": 13,
   "metadata": {},
   "outputs": [
    {
     "data": {
      "text/html": [
       "<div>\n",
       "<style scoped>\n",
       "    .dataframe tbody tr th:only-of-type {\n",
       "        vertical-align: middle;\n",
       "    }\n",
       "\n",
       "    .dataframe tbody tr th {\n",
       "        vertical-align: top;\n",
       "    }\n",
       "\n",
       "    .dataframe thead th {\n",
       "        text-align: right;\n",
       "    }\n",
       "</style>\n",
       "<table border=\"1\" class=\"dataframe\">\n",
       "  <thead>\n",
       "    <tr style=\"text-align: right;\">\n",
       "      <th></th>\n",
       "      <th>variance</th>\n",
       "      <th>skewness</th>\n",
       "      <th>curtosis</th>\n",
       "      <th>entropy</th>\n",
       "    </tr>\n",
       "  </thead>\n",
       "  <tbody>\n",
       "    <tr>\n",
       "      <th>1102</th>\n",
       "      <td>2.45270</td>\n",
       "      <td>2.96530</td>\n",
       "      <td>0.20021</td>\n",
       "      <td>-0.056479</td>\n",
       "    </tr>\n",
       "    <tr>\n",
       "      <th>524</th>\n",
       "      <td>-2.82670</td>\n",
       "      <td>-9.04070</td>\n",
       "      <td>9.06940</td>\n",
       "      <td>-0.982330</td>\n",
       "    </tr>\n",
       "    <tr>\n",
       "      <th>780</th>\n",
       "      <td>-0.62684</td>\n",
       "      <td>-6.30100</td>\n",
       "      <td>4.78430</td>\n",
       "      <td>1.106000</td>\n",
       "    </tr>\n",
       "    <tr>\n",
       "      <th>121</th>\n",
       "      <td>-5.87300</td>\n",
       "      <td>9.17520</td>\n",
       "      <td>-0.27448</td>\n",
       "      <td>-6.042200</td>\n",
       "    </tr>\n",
       "    <tr>\n",
       "      <th>438</th>\n",
       "      <td>-0.77995</td>\n",
       "      <td>3.23220</td>\n",
       "      <td>-3.28200</td>\n",
       "      <td>-3.100400</td>\n",
       "    </tr>\n",
       "    <tr>\n",
       "      <th>...</th>\n",
       "      <td>...</td>\n",
       "      <td>...</td>\n",
       "      <td>...</td>\n",
       "      <td>...</td>\n",
       "    </tr>\n",
       "    <tr>\n",
       "      <th>364</th>\n",
       "      <td>4.54470</td>\n",
       "      <td>8.22740</td>\n",
       "      <td>-2.41660</td>\n",
       "      <td>-1.587500</td>\n",
       "    </tr>\n",
       "    <tr>\n",
       "      <th>218</th>\n",
       "      <td>-1.83480</td>\n",
       "      <td>11.03340</td>\n",
       "      <td>3.18630</td>\n",
       "      <td>-4.888800</td>\n",
       "    </tr>\n",
       "    <tr>\n",
       "      <th>262</th>\n",
       "      <td>-2.36290</td>\n",
       "      <td>-0.10554</td>\n",
       "      <td>1.93360</td>\n",
       "      <td>1.135800</td>\n",
       "    </tr>\n",
       "    <tr>\n",
       "      <th>47</th>\n",
       "      <td>-1.99830</td>\n",
       "      <td>-6.60720</td>\n",
       "      <td>4.82540</td>\n",
       "      <td>-0.419840</td>\n",
       "    </tr>\n",
       "    <tr>\n",
       "      <th>26</th>\n",
       "      <td>3.00090</td>\n",
       "      <td>5.81260</td>\n",
       "      <td>-2.23060</td>\n",
       "      <td>-0.665530</td>\n",
       "    </tr>\n",
       "  </tbody>\n",
       "</table>\n",
       "<p>275 rows × 4 columns</p>\n",
       "</div>"
      ],
      "text/plain": [
       "      variance  skewness  curtosis   entropy\n",
       "1102   2.45270   2.96530   0.20021 -0.056479\n",
       "524   -2.82670  -9.04070   9.06940 -0.982330\n",
       "780   -0.62684  -6.30100   4.78430  1.106000\n",
       "121   -5.87300   9.17520  -0.27448 -6.042200\n",
       "438   -0.77995   3.23220  -3.28200 -3.100400\n",
       "...        ...       ...       ...       ...\n",
       "364    4.54470   8.22740  -2.41660 -1.587500\n",
       "218   -1.83480  11.03340   3.18630 -4.888800\n",
       "262   -2.36290  -0.10554   1.93360  1.135800\n",
       "47    -1.99830  -6.60720   4.82540 -0.419840\n",
       "26     3.00090   5.81260  -2.23060 -0.665530\n",
       "\n",
       "[275 rows x 4 columns]"
      ]
     },
     "execution_count": 13,
     "metadata": {},
     "output_type": "execute_result"
    }
   ],
   "source": [
    "#X_testing=\n",
    "#predictions = model.predict(X_testing)\n",
    "X_test"
   ]
  },
  {
   "cell_type": "code",
   "execution_count": 18,
   "metadata": {
    "scrolled": true
   },
   "outputs": [
    {
     "data": {
      "text/plain": [
       "array([0, 1, 1, 1, 1, 1, 0, 0, 1, 0, 1, 0, 1, 0, 0, 0, 1, 0, 0, 0, 1, 1,\n",
       "       0, 1, 0, 0, 0, 0, 1, 1, 0, 1, 1, 1, 0, 1, 1, 0, 0, 0, 0, 1, 0, 1,\n",
       "       0, 0, 0, 0, 0, 1, 1, 0, 1, 1, 0, 0, 1, 0, 1, 0, 0, 0, 0, 0, 1, 0,\n",
       "       0, 0, 0, 0, 1, 0, 0, 1, 1, 0, 1, 0, 0, 1, 0, 1, 0, 0, 1, 1, 1, 1,\n",
       "       0, 1, 0, 0, 0, 0, 1, 1, 1, 0, 1, 1, 1, 0, 0, 1, 0, 0, 1, 0, 1, 1,\n",
       "       0, 1, 1, 1, 1, 0, 1, 1, 0, 0, 0, 0, 1, 1, 1, 1, 1, 0, 1, 1, 0, 1,\n",
       "       0, 0, 1, 0, 1, 0, 0, 0, 0, 1, 0, 1, 0, 1, 1, 0, 0, 0, 0, 1, 0, 0,\n",
       "       1, 1, 1, 0, 1, 0, 0, 0, 0, 0, 1, 0, 0, 0, 0, 0, 0, 1, 0, 1, 1, 0,\n",
       "       1, 1, 0, 1, 0, 0, 1, 1, 0, 1, 1, 0, 0, 0, 0, 0, 0, 1, 1, 0, 0, 0,\n",
       "       0, 0, 0, 1, 0, 0, 1, 0, 1, 0, 1, 1, 0, 0, 1, 1, 0, 0, 0, 0, 1, 0,\n",
       "       0, 0, 0, 0, 0, 0, 0, 0, 1, 0, 0, 1, 0, 1, 0, 1, 0, 0, 1, 0, 0, 1,\n",
       "       0, 0, 0, 0, 1, 0, 0, 1, 0, 1, 0, 0, 1, 0, 1, 1, 0, 0, 0, 0, 0, 0,\n",
       "       0, 0, 1, 1, 0, 0, 0, 1, 1, 1, 0], dtype=int64)"
      ]
     },
     "execution_count": 18,
     "metadata": {},
     "output_type": "execute_result"
    }
   ],
   "source": [
    "model.predict(X_test)\n",
    "#model.predict([['-2.82670','-9.04','0.20021','-0.056479']])"
   ]
  },
  {
   "cell_type": "code",
   "execution_count": 23,
   "metadata": {},
   "outputs": [
    {
     "data": {
      "text/plain": [
       "1    5.11\n",
       "Name: Growth%, dtype: float64"
      ]
     },
     "execution_count": 23,
     "metadata": {},
     "output_type": "execute_result"
    }
   ],
   "source": [
    "y_test"
   ]
  },
  {
   "cell_type": "markdown",
   "metadata": {},
   "source": [
    "# It can be seen that model predicted the Growth % as 5.08 as compared to actual 5.11. This suggests that model is fairly accurate for the dataset. Further, prediction for any year can be made by following steps:"
   ]
  },
  {
   "cell_type": "markdown",
   "metadata": {},
   "source": [
    "**random_state argument**"
   ]
  },
  {
   "cell_type": "code",
   "execution_count": 26,
   "metadata": {
    "scrolled": true
   },
   "outputs": [
    {
     "ename": "ValueError",
     "evalue": "Expected 2D array, got scalar array instead:\narray=236,12500,747291.99,91004,115751,104718,0,0,23500,1880,45611,7200,27947,31000,320611,0,0,0,37453,0,391408,36503,347381,75649,6500,295218,8500,178659,0,0,0,0,237585.49,0,3144106.48.\nReshape your data either using array.reshape(-1, 1) if your data has a single feature or array.reshape(1, -1) if it contains a single sample.",
     "output_type": "error",
     "traceback": [
      "\u001b[1;31m---------------------------------------------------------------------------\u001b[0m",
      "\u001b[1;31mValueError\u001b[0m                                Traceback (most recent call last)",
      "\u001b[1;32m~\\AppData\\Local\\Temp/ipykernel_6984/4203046958.py\u001b[0m in \u001b[0;36m<module>\u001b[1;34m\u001b[0m\n\u001b[1;32m----> 1\u001b[1;33m clf.predict('236,12500,747291.99,91004,115751,104718,0,0,23500,1880,45611,7200,27947,31000,320611,0,0,0,37453,0,391408,36503,347381,75649,6500,295218,8500,178659,0,0,0,0,237585.49,0,3144106.48'\n\u001b[0m\u001b[0;32m      2\u001b[0m )\n",
      "\u001b[1;32m~\\anaconda3\\lib\\site-packages\\sklearn\\linear_model\\_base.py\u001b[0m in \u001b[0;36mpredict\u001b[1;34m(self, X)\u001b[0m\n\u001b[0;32m    236\u001b[0m             \u001b[0mReturns\u001b[0m \u001b[0mpredicted\u001b[0m \u001b[0mvalues\u001b[0m\u001b[1;33m.\u001b[0m\u001b[1;33m\u001b[0m\u001b[1;33m\u001b[0m\u001b[0m\n\u001b[0;32m    237\u001b[0m         \"\"\"\n\u001b[1;32m--> 238\u001b[1;33m         \u001b[1;32mreturn\u001b[0m \u001b[0mself\u001b[0m\u001b[1;33m.\u001b[0m\u001b[0m_decision_function\u001b[0m\u001b[1;33m(\u001b[0m\u001b[0mX\u001b[0m\u001b[1;33m)\u001b[0m\u001b[1;33m\u001b[0m\u001b[1;33m\u001b[0m\u001b[0m\n\u001b[0m\u001b[0;32m    239\u001b[0m \u001b[1;33m\u001b[0m\u001b[0m\n\u001b[0;32m    240\u001b[0m     \u001b[0m_preprocess_data\u001b[0m \u001b[1;33m=\u001b[0m \u001b[0mstaticmethod\u001b[0m\u001b[1;33m(\u001b[0m\u001b[0m_preprocess_data\u001b[0m\u001b[1;33m)\u001b[0m\u001b[1;33m\u001b[0m\u001b[1;33m\u001b[0m\u001b[0m\n",
      "\u001b[1;32m~\\anaconda3\\lib\\site-packages\\sklearn\\linear_model\\_base.py\u001b[0m in \u001b[0;36m_decision_function\u001b[1;34m(self, X)\u001b[0m\n\u001b[0;32m    218\u001b[0m         \u001b[0mcheck_is_fitted\u001b[0m\u001b[1;33m(\u001b[0m\u001b[0mself\u001b[0m\u001b[1;33m)\u001b[0m\u001b[1;33m\u001b[0m\u001b[1;33m\u001b[0m\u001b[0m\n\u001b[0;32m    219\u001b[0m \u001b[1;33m\u001b[0m\u001b[0m\n\u001b[1;32m--> 220\u001b[1;33m         \u001b[0mX\u001b[0m \u001b[1;33m=\u001b[0m \u001b[0mcheck_array\u001b[0m\u001b[1;33m(\u001b[0m\u001b[0mX\u001b[0m\u001b[1;33m,\u001b[0m \u001b[0maccept_sparse\u001b[0m\u001b[1;33m=\u001b[0m\u001b[1;33m[\u001b[0m\u001b[1;34m'csr'\u001b[0m\u001b[1;33m,\u001b[0m \u001b[1;34m'csc'\u001b[0m\u001b[1;33m,\u001b[0m \u001b[1;34m'coo'\u001b[0m\u001b[1;33m]\u001b[0m\u001b[1;33m)\u001b[0m\u001b[1;33m\u001b[0m\u001b[1;33m\u001b[0m\u001b[0m\n\u001b[0m\u001b[0;32m    221\u001b[0m         return safe_sparse_dot(X, self.coef_.T,\n\u001b[0;32m    222\u001b[0m                                dense_output=True) + self.intercept_\n",
      "\u001b[1;32m~\\anaconda3\\lib\\site-packages\\sklearn\\utils\\validation.py\u001b[0m in \u001b[0;36minner_f\u001b[1;34m(*args, **kwargs)\u001b[0m\n\u001b[0;32m     61\u001b[0m             \u001b[0mextra_args\u001b[0m \u001b[1;33m=\u001b[0m \u001b[0mlen\u001b[0m\u001b[1;33m(\u001b[0m\u001b[0margs\u001b[0m\u001b[1;33m)\u001b[0m \u001b[1;33m-\u001b[0m \u001b[0mlen\u001b[0m\u001b[1;33m(\u001b[0m\u001b[0mall_args\u001b[0m\u001b[1;33m)\u001b[0m\u001b[1;33m\u001b[0m\u001b[1;33m\u001b[0m\u001b[0m\n\u001b[0;32m     62\u001b[0m             \u001b[1;32mif\u001b[0m \u001b[0mextra_args\u001b[0m \u001b[1;33m<=\u001b[0m \u001b[1;36m0\u001b[0m\u001b[1;33m:\u001b[0m\u001b[1;33m\u001b[0m\u001b[1;33m\u001b[0m\u001b[0m\n\u001b[1;32m---> 63\u001b[1;33m                 \u001b[1;32mreturn\u001b[0m \u001b[0mf\u001b[0m\u001b[1;33m(\u001b[0m\u001b[1;33m*\u001b[0m\u001b[0margs\u001b[0m\u001b[1;33m,\u001b[0m \u001b[1;33m**\u001b[0m\u001b[0mkwargs\u001b[0m\u001b[1;33m)\u001b[0m\u001b[1;33m\u001b[0m\u001b[1;33m\u001b[0m\u001b[0m\n\u001b[0m\u001b[0;32m     64\u001b[0m \u001b[1;33m\u001b[0m\u001b[0m\n\u001b[0;32m     65\u001b[0m             \u001b[1;31m# extra_args > 0\u001b[0m\u001b[1;33m\u001b[0m\u001b[1;33m\u001b[0m\u001b[0m\n",
      "\u001b[1;32m~\\anaconda3\\lib\\site-packages\\sklearn\\utils\\validation.py\u001b[0m in \u001b[0;36mcheck_array\u001b[1;34m(array, accept_sparse, accept_large_sparse, dtype, order, copy, force_all_finite, ensure_2d, allow_nd, ensure_min_samples, ensure_min_features, estimator)\u001b[0m\n\u001b[0;32m    685\u001b[0m             \u001b[1;31m# If input is scalar raise error\u001b[0m\u001b[1;33m\u001b[0m\u001b[1;33m\u001b[0m\u001b[0m\n\u001b[0;32m    686\u001b[0m             \u001b[1;32mif\u001b[0m \u001b[0marray\u001b[0m\u001b[1;33m.\u001b[0m\u001b[0mndim\u001b[0m \u001b[1;33m==\u001b[0m \u001b[1;36m0\u001b[0m\u001b[1;33m:\u001b[0m\u001b[1;33m\u001b[0m\u001b[1;33m\u001b[0m\u001b[0m\n\u001b[1;32m--> 687\u001b[1;33m                 raise ValueError(\n\u001b[0m\u001b[0;32m    688\u001b[0m                     \u001b[1;34m\"Expected 2D array, got scalar array instead:\\narray={}.\\n\"\u001b[0m\u001b[1;33m\u001b[0m\u001b[1;33m\u001b[0m\u001b[0m\n\u001b[0;32m    689\u001b[0m                     \u001b[1;34m\"Reshape your data either using array.reshape(-1, 1) if \"\u001b[0m\u001b[1;33m\u001b[0m\u001b[1;33m\u001b[0m\u001b[0m\n",
      "\u001b[1;31mValueError\u001b[0m: Expected 2D array, got scalar array instead:\narray=236,12500,747291.99,91004,115751,104718,0,0,23500,1880,45611,7200,27947,31000,320611,0,0,0,37453,0,391408,36503,347381,75649,6500,295218,8500,178659,0,0,0,0,237585.49,0,3144106.48.\nReshape your data either using array.reshape(-1, 1) if your data has a single feature or array.reshape(1, -1) if it contains a single sample."
     ]
    }
   ],
   "source": [
    "clf.predict('236,12500,747291.99,91004,115751,104718,0,0,23500,1880,45611,7200,27947,31000,320611,0,0,0,37453,0,391408,36503,347381,75649,6500,295218,8500,178659,0,0,0,0,237585.49,0,3144106.48'\n",
    ")"
   ]
  },
  {
   "cell_type": "markdown",
   "metadata": {},
   "source": [
    "clf.predict('236','12500','747291.99','91004','115751','104718','0','0','23500','1880','45611','7200','27947','31000','320611','0','0','0','37453','0','391408','36503','347381','75649','6500','295218','8500','178659','0','0','0','0','237585.49','0','3144106.48'\n",
    ")"
   ]
  },
  {
   "cell_type": "code",
   "execution_count": 39,
   "metadata": {},
   "outputs": [
    {
     "data": {
      "text/html": [
       "<div>\n",
       "<style scoped>\n",
       "    .dataframe tbody tr th:only-of-type {\n",
       "        vertical-align: middle;\n",
       "    }\n",
       "\n",
       "    .dataframe tbody tr th {\n",
       "        vertical-align: top;\n",
       "    }\n",
       "\n",
       "    .dataframe thead th {\n",
       "        text-align: right;\n",
       "    }\n",
       "</style>\n",
       "<table border=\"1\" class=\"dataframe\">\n",
       "  <thead>\n",
       "    <tr style=\"text-align: right;\">\n",
       "      <th></th>\n",
       "      <th>Bank Charges</th>\n",
       "      <th>Conveyance (Maint)</th>\n",
       "      <th>Depreciation</th>\n",
       "      <th>DTH Charges</th>\n",
       "      <th>Electrical Repair</th>\n",
       "      <th>General Repair</th>\n",
       "      <th>Gift Expenses (Maint)</th>\n",
       "      <th>Guest expenses (Maint)</th>\n",
       "      <th>Hiring Labour Charges</th>\n",
       "      <th>Insurance Premium</th>\n",
       "      <th>...</th>\n",
       "      <th>Wages (Maint)</th>\n",
       "      <th>Party decoration</th>\n",
       "      <th>Maintenance</th>\n",
       "      <th>Miscellaneous</th>\n",
       "      <th>Diesel for OMQ</th>\n",
       "      <th>Electrical purchase</th>\n",
       "      <th>Rent and Allied charges O/S</th>\n",
       "      <th>WOC property items</th>\n",
       "      <th>Balance C/F</th>\n",
       "      <th>Total</th>\n",
       "    </tr>\n",
       "  </thead>\n",
       "  <tbody>\n",
       "    <tr>\n",
       "      <th>0</th>\n",
       "      <td>2837</td>\n",
       "      <td>0</td>\n",
       "      <td>659240.00</td>\n",
       "      <td>85603</td>\n",
       "      <td>215841</td>\n",
       "      <td>718357</td>\n",
       "      <td>0</td>\n",
       "      <td>0</td>\n",
       "      <td>0</td>\n",
       "      <td>0</td>\n",
       "      <td>...</td>\n",
       "      <td>84800</td>\n",
       "      <td>0</td>\n",
       "      <td>0</td>\n",
       "      <td>177854</td>\n",
       "      <td>27641</td>\n",
       "      <td>31073</td>\n",
       "      <td>22188</td>\n",
       "      <td>45173.00</td>\n",
       "      <td>438023</td>\n",
       "      <td>3829571.00</td>\n",
       "    </tr>\n",
       "    <tr>\n",
       "      <th>1</th>\n",
       "      <td>266</td>\n",
       "      <td>20250</td>\n",
       "      <td>791534.49</td>\n",
       "      <td>66872</td>\n",
       "      <td>125925</td>\n",
       "      <td>203113</td>\n",
       "      <td>36616</td>\n",
       "      <td>100000</td>\n",
       "      <td>128960</td>\n",
       "      <td>1873</td>\n",
       "      <td>...</td>\n",
       "      <td>96400</td>\n",
       "      <td>0</td>\n",
       "      <td>0</td>\n",
       "      <td>1508</td>\n",
       "      <td>0</td>\n",
       "      <td>0</td>\n",
       "      <td>0</td>\n",
       "      <td>223674.29</td>\n",
       "      <td>384052</td>\n",
       "      <td>3480395.00</td>\n",
       "    </tr>\n",
       "    <tr>\n",
       "      <th>2</th>\n",
       "      <td>236</td>\n",
       "      <td>12500</td>\n",
       "      <td>747291.99</td>\n",
       "      <td>91004</td>\n",
       "      <td>115751</td>\n",
       "      <td>104718</td>\n",
       "      <td>0</td>\n",
       "      <td>0</td>\n",
       "      <td>23500</td>\n",
       "      <td>1880</td>\n",
       "      <td>...</td>\n",
       "      <td>295218</td>\n",
       "      <td>8500</td>\n",
       "      <td>178659</td>\n",
       "      <td>0</td>\n",
       "      <td>0</td>\n",
       "      <td>0</td>\n",
       "      <td>0</td>\n",
       "      <td>237585.49</td>\n",
       "      <td>0</td>\n",
       "      <td>3144106.48</td>\n",
       "    </tr>\n",
       "    <tr>\n",
       "      <th>3</th>\n",
       "      <td>4432</td>\n",
       "      <td>19590</td>\n",
       "      <td>691168.10</td>\n",
       "      <td>87341</td>\n",
       "      <td>231962</td>\n",
       "      <td>111870</td>\n",
       "      <td>0</td>\n",
       "      <td>0</td>\n",
       "      <td>1500</td>\n",
       "      <td>2058</td>\n",
       "      <td>...</td>\n",
       "      <td>197757</td>\n",
       "      <td>0</td>\n",
       "      <td>330136</td>\n",
       "      <td>0</td>\n",
       "      <td>0</td>\n",
       "      <td>0</td>\n",
       "      <td>0</td>\n",
       "      <td>97319.26</td>\n",
       "      <td>0</td>\n",
       "      <td>2855557.36</td>\n",
       "    </tr>\n",
       "  </tbody>\n",
       "</table>\n",
       "<p>4 rows × 35 columns</p>\n",
       "</div>"
      ],
      "text/plain": [
       "   Bank Charges  Conveyance (Maint)  Depreciation  DTH Charges  \\\n",
       "0          2837                   0     659240.00        85603   \n",
       "1           266               20250     791534.49        66872   \n",
       "2           236               12500     747291.99        91004   \n",
       "3          4432               19590     691168.10        87341   \n",
       "\n",
       "   Electrical Repair  General Repair  Gift Expenses (Maint)  \\\n",
       "0             215841          718357                      0   \n",
       "1             125925          203113                  36616   \n",
       "2             115751          104718                      0   \n",
       "3             231962          111870                      0   \n",
       "\n",
       "   Guest expenses (Maint)  Hiring Labour Charges  Insurance Premium  ...  \\\n",
       "0                       0                      0                  0  ...   \n",
       "1                  100000                 128960               1873  ...   \n",
       "2                       0                  23500               1880  ...   \n",
       "3                       0                   1500               2058  ...   \n",
       "\n",
       "   Wages (Maint)  Party decoration  Maintenance  Miscellaneous  \\\n",
       "0          84800                 0            0         177854   \n",
       "1          96400                 0            0           1508   \n",
       "2         295218              8500       178659              0   \n",
       "3         197757                 0       330136              0   \n",
       "\n",
       "   Diesel for OMQ  Electrical purchase  Rent and Allied charges O/S  \\\n",
       "0           27641                31073                        22188   \n",
       "1               0                    0                            0   \n",
       "2               0                    0                            0   \n",
       "3               0                    0                            0   \n",
       "\n",
       "   WOC property items  Balance C/F       Total  \n",
       "0            45173.00       438023  3829571.00  \n",
       "1           223674.29       384052  3480395.00  \n",
       "2           237585.49            0  3144106.48  \n",
       "3            97319.26            0  2855557.36  \n",
       "\n",
       "[4 rows x 35 columns]"
      ]
     },
     "execution_count": 39,
     "metadata": {},
     "output_type": "execute_result"
    }
   ],
   "source": [
    "df[['Bank Charges','Conveyance (Maint)','Depreciation','DTH Charges','Electrical Repair','General Repair','Gift Expenses (Maint)','Guest expenses (Maint)','Hiring Labour Charges','Insurance Premium','Internet Charges','Labour Charges','Laundry Charges','Light and Decoration','Listed property account','Mobile recharge','Prepaid Insurance Maint','Petrol','Printing and Stationery','Purchase (Diesel)','Purchase (Maint)','Purchase (Electrical items)','Rent and Allied charges (Maint)','Room maintenance','Uniform charges','Wages (Maint)','Party decoration','Maintenance','Miscellaneous','Diesel for OMQ','Electrical purchase','Rent and Allied charges O/S','WOC property items','Balance C/F','Total']]"
   ]
  },
  {
   "cell_type": "code",
   "execution_count": 41,
   "metadata": {},
   "outputs": [
    {
     "data": {
      "text/plain": [
       "LinearRegression()"
      ]
     },
     "execution_count": 41,
     "metadata": {},
     "output_type": "execute_result"
    }
   ],
   "source": [
    "import numpy as np\n",
    "from sklearn import linear_model\n",
    "reg = linear_model.LinearRegression()\n",
    "reg.fit(df[['Bank Charges','Conveyance (Maint)','Depreciation','DTH Charges','Electrical Repair','General Repair','Gift Expenses (Maint)','Guest expenses (Maint)','Hiring Labour Charges','Insurance Premium','Internet Charges','Labour Charges','Laundry Charges','Light and Decoration','Listed property account','Mobile recharge','Prepaid Insurance Maint','Petrol','Printing and Stationery','Purchase (Diesel)','Purchase (Maint)','Purchase (Electrical items)','Rent and Allied charges (Maint)','Room maintenance','Uniform charges','Wages (Maint)','Party decoration','Maintenance','Miscellaneous','Diesel for OMQ','Electrical purchase','Rent and Allied charges O/S','WOC property items','Balance C/F','Total']],df['Growth%'])"
   ]
  },
  {
   "cell_type": "code",
   "execution_count": 42,
   "metadata": {},
   "outputs": [
    {
     "data": {
      "text/plain": [
       "array([ 1.16077004e-08, -5.54070021e-08, -3.88567520e-07, -2.80422755e-08,\n",
       "        4.49526910e-07,  2.78394553e-06,  5.74899351e-09,  1.57007688e-08,\n",
       "       -8.87778345e-08, -8.48923639e-09, -1.22131717e-07, -3.28787675e-08,\n",
       "        2.23913186e-08,  3.55934951e-07, -1.47407517e-06,  5.20595183e-12,\n",
       "        2.15100533e-11, -3.06530272e-10, -5.96159564e-08,  1.17771304e-09,\n",
       "       -5.92232522e-07, -1.59365363e-07, -2.38300440e-07,  2.30083538e-06,\n",
       "       -2.65631103e-08, -9.77535236e-07, -3.94176196e-08, -8.38944304e-07,\n",
       "        8.02709288e-07,  1.24715457e-07,  1.40200550e-07,  1.00111666e-07,\n",
       "       -8.65909816e-07,  2.03664725e-06,  3.15471980e-06])"
      ]
     },
     "execution_count": 42,
     "metadata": {},
     "output_type": "execute_result"
    }
   ],
   "source": [
    "reg.coef_"
   ]
  },
  {
   "cell_type": "code",
   "execution_count": 43,
   "metadata": {},
   "outputs": [
    {
     "data": {
      "text/plain": [
       "-6.716581601931433"
      ]
     },
     "execution_count": 43,
     "metadata": {},
     "output_type": "execute_result"
    }
   ],
   "source": [
    "reg.intercept_"
   ]
  },
  {
   "cell_type": "code",
   "execution_count": 44,
   "metadata": {},
   "outputs": [
    {
     "data": {
      "text/plain": [
       "array([1.99])"
      ]
     },
     "execution_count": 44,
     "metadata": {},
     "output_type": "execute_result"
    }
   ],
   "source": [
    "reg.predict([[236,12500,747291.99,91004,115751,104718,0,0,23500,1880,45611,7200,27947,31000,320611,0,0,0,37453,0,391408,36503,347381,75649,6500,295218,8500,178659,0,0,0,0,237585.49,0,3144106.48]])"
   ]
  },
  {
   "cell_type": "code",
   "execution_count": null,
   "metadata": {},
   "outputs": [],
   "source": []
  }
 ],
 "metadata": {
  "kernelspec": {
   "display_name": "Python 3 (ipykernel)",
   "language": "python",
   "name": "python3"
  },
  "language_info": {
   "codemirror_mode": {
    "name": "ipython",
    "version": 3
   },
   "file_extension": ".py",
   "mimetype": "text/x-python",
   "name": "python",
   "nbconvert_exporter": "python",
   "pygments_lexer": "ipython3",
   "version": "3.9.7"
  }
 },
 "nbformat": 4,
 "nbformat_minor": 2
}
