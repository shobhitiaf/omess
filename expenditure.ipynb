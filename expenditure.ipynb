{
 "cells": [
  {
   "cell_type": "markdown",
   "metadata": {},
   "source": [
    "<h2 style='color:purple' align='center'>Training And Testing Available Data</h2>"
   ]
  },
  {
   "cell_type": "code",
   "execution_count": 1,
   "metadata": {
    "scrolled": true
   },
   "outputs": [
    {
     "data": {
      "text/html": [
       "<div>\n",
       "<style scoped>\n",
       "    .dataframe tbody tr th:only-of-type {\n",
       "        vertical-align: middle;\n",
       "    }\n",
       "\n",
       "    .dataframe tbody tr th {\n",
       "        vertical-align: top;\n",
       "    }\n",
       "\n",
       "    .dataframe thead th {\n",
       "        text-align: right;\n",
       "    }\n",
       "</style>\n",
       "<table border=\"1\" class=\"dataframe\">\n",
       "  <thead>\n",
       "    <tr style=\"text-align: right;\">\n",
       "      <th></th>\n",
       "      <th>Expenditure</th>\n",
       "      <th>Bank Charges</th>\n",
       "      <th>Conveyance (Maint)</th>\n",
       "      <th>Depreciation</th>\n",
       "      <th>DTH Charges</th>\n",
       "      <th>Electrical Repair</th>\n",
       "      <th>General Repair</th>\n",
       "      <th>Gift Expenses (Maint)</th>\n",
       "      <th>Guest expenses (Maint)</th>\n",
       "      <th>Hiring Labour Charges</th>\n",
       "      <th>...</th>\n",
       "      <th>Party decoration</th>\n",
       "      <th>Maintenance</th>\n",
       "      <th>Miscellaneous</th>\n",
       "      <th>Diesel for OMQ</th>\n",
       "      <th>Electrical purchase</th>\n",
       "      <th>Rent and Allied charges O/S</th>\n",
       "      <th>WOC property items</th>\n",
       "      <th>Balance C/F</th>\n",
       "      <th>Total</th>\n",
       "      <th>Growth%</th>\n",
       "    </tr>\n",
       "  </thead>\n",
       "  <tbody>\n",
       "    <tr>\n",
       "      <th>0</th>\n",
       "      <td>2017-18</td>\n",
       "      <td>2837</td>\n",
       "      <td>0</td>\n",
       "      <td>659240.00</td>\n",
       "      <td>85603</td>\n",
       "      <td>215841</td>\n",
       "      <td>718357</td>\n",
       "      <td>0</td>\n",
       "      <td>0</td>\n",
       "      <td>0</td>\n",
       "      <td>...</td>\n",
       "      <td>0</td>\n",
       "      <td>0</td>\n",
       "      <td>177854</td>\n",
       "      <td>27641</td>\n",
       "      <td>31073</td>\n",
       "      <td>22188</td>\n",
       "      <td>45173.00</td>\n",
       "      <td>438023</td>\n",
       "      <td>3829571.00</td>\n",
       "      <td>9.27</td>\n",
       "    </tr>\n",
       "    <tr>\n",
       "      <th>1</th>\n",
       "      <td>2018-19</td>\n",
       "      <td>266</td>\n",
       "      <td>20250</td>\n",
       "      <td>791534.49</td>\n",
       "      <td>66872</td>\n",
       "      <td>125925</td>\n",
       "      <td>203113</td>\n",
       "      <td>36616</td>\n",
       "      <td>100000</td>\n",
       "      <td>128960</td>\n",
       "      <td>...</td>\n",
       "      <td>0</td>\n",
       "      <td>0</td>\n",
       "      <td>1508</td>\n",
       "      <td>0</td>\n",
       "      <td>0</td>\n",
       "      <td>0</td>\n",
       "      <td>223674.29</td>\n",
       "      <td>384052</td>\n",
       "      <td>3480395.00</td>\n",
       "      <td>5.11</td>\n",
       "    </tr>\n",
       "    <tr>\n",
       "      <th>2</th>\n",
       "      <td>2019-2020</td>\n",
       "      <td>236</td>\n",
       "      <td>12500</td>\n",
       "      <td>747291.99</td>\n",
       "      <td>91004</td>\n",
       "      <td>115751</td>\n",
       "      <td>104718</td>\n",
       "      <td>0</td>\n",
       "      <td>0</td>\n",
       "      <td>23500</td>\n",
       "      <td>...</td>\n",
       "      <td>8500</td>\n",
       "      <td>178659</td>\n",
       "      <td>0</td>\n",
       "      <td>0</td>\n",
       "      <td>0</td>\n",
       "      <td>0</td>\n",
       "      <td>237585.49</td>\n",
       "      <td>0</td>\n",
       "      <td>3144106.48</td>\n",
       "      <td>1.99</td>\n",
       "    </tr>\n",
       "    <tr>\n",
       "      <th>3</th>\n",
       "      <td>2020-2021</td>\n",
       "      <td>4432</td>\n",
       "      <td>19590</td>\n",
       "      <td>691168.10</td>\n",
       "      <td>87341</td>\n",
       "      <td>231962</td>\n",
       "      <td>111870</td>\n",
       "      <td>0</td>\n",
       "      <td>0</td>\n",
       "      <td>1500</td>\n",
       "      <td>...</td>\n",
       "      <td>0</td>\n",
       "      <td>330136</td>\n",
       "      <td>0</td>\n",
       "      <td>0</td>\n",
       "      <td>0</td>\n",
       "      <td>0</td>\n",
       "      <td>97319.26</td>\n",
       "      <td>0</td>\n",
       "      <td>2855557.36</td>\n",
       "      <td>1.16</td>\n",
       "    </tr>\n",
       "  </tbody>\n",
       "</table>\n",
       "<p>4 rows × 37 columns</p>\n",
       "</div>"
      ],
      "text/plain": [
       "  Expenditure  Bank Charges  Conveyance (Maint)  Depreciation  DTH Charges  \\\n",
       "0     2017-18          2837                   0     659240.00        85603   \n",
       "1     2018-19           266               20250     791534.49        66872   \n",
       "2   2019-2020           236               12500     747291.99        91004   \n",
       "3   2020-2021          4432               19590     691168.10        87341   \n",
       "\n",
       "   Electrical Repair  General Repair  Gift Expenses (Maint)  \\\n",
       "0             215841          718357                      0   \n",
       "1             125925          203113                  36616   \n",
       "2             115751          104718                      0   \n",
       "3             231962          111870                      0   \n",
       "\n",
       "   Guest expenses (Maint)  Hiring Labour Charges  ...  Party decoration  \\\n",
       "0                       0                      0  ...                 0   \n",
       "1                  100000                 128960  ...                 0   \n",
       "2                       0                  23500  ...              8500   \n",
       "3                       0                   1500  ...                 0   \n",
       "\n",
       "   Maintenance  Miscellaneous  Diesel for OMQ  Electrical purchase  \\\n",
       "0            0         177854           27641                31073   \n",
       "1            0           1508               0                    0   \n",
       "2       178659              0               0                    0   \n",
       "3       330136              0               0                    0   \n",
       "\n",
       "   Rent and Allied charges O/S  WOC property items  Balance C/F       Total  \\\n",
       "0                        22188            45173.00       438023  3829571.00   \n",
       "1                            0           223674.29       384052  3480395.00   \n",
       "2                            0           237585.49            0  3144106.48   \n",
       "3                            0            97319.26            0  2855557.36   \n",
       "\n",
       "   Growth%  \n",
       "0     9.27  \n",
       "1     5.11  \n",
       "2     1.99  \n",
       "3     1.16  \n",
       "\n",
       "[4 rows x 37 columns]"
      ]
     },
     "execution_count": 1,
     "metadata": {},
     "output_type": "execute_result"
    }
   ],
   "source": [
    "import pandas as pd\n",
    "df = pd.read_excel(r\"C:\\Users\\lom\\Desktop\\expenditure.xlsx\")\n",
    "df.head()"
   ]
  },
  {
   "cell_type": "code",
   "execution_count": 2,
   "metadata": {},
   "outputs": [],
   "source": [
    "import matplotlib.pyplot as plt\n",
    "%matplotlib inline"
   ]
  },
  {
   "cell_type": "markdown",
   "metadata": {},
   "source": [
    "# Bar Chart (Year v/s Growth-Rate)"
   ]
  },
  {
   "cell_type": "code",
   "execution_count": 3,
   "metadata": {
    "scrolled": false
   },
   "outputs": [
    {
     "data": {
      "text/plain": [
       "Text(0.5, 1.0, 'Growth-Rate')"
      ]
     },
     "execution_count": 3,
     "metadata": {},
     "output_type": "execute_result"
    },
    {
     "data": {
      "image/png": "[encoded data removed]",
      "text/plain": [
       "<Figure size 432x288 with 1 Axes>"
      ]
     },
     "metadata": {
      "needs_background": "light"
     },
     "output_type": "display_data"
    }
   ],
   "source": [
    "plt.bar(df['Expenditure'],df['Growth%'])\n",
    "plt.xlabel(\"year\")\n",
    "plt.ylabel(\"Growth%\")\n",
    "plt.title(\"Growth-Rate\")"
   ]
  },
  {
   "cell_type": "markdown",
   "metadata": {},
   "source": []
  },
  {
   "cell_type": "code",
   "execution_count": null,
   "metadata": {
    "scrolled": true
   },
   "outputs": [],
   "source": []
  },
  {
   "cell_type": "markdown",
   "metadata": {},
   "source": [
    "**Looking at above Bar-Chart,we can clearly make out that there is declining pattern. This decline may be attributed to any of the expenditure factors. Let us device a method to predict Growth-rate based on various expenditure factors. "
   ]
  },
  {
   "cell_type": "markdown",
   "metadata": {},
   "source": [
    "<p style='color:purple'><b>The approach we are going to use here is to split available data in two sets</b></p>\n",
    "    <ol>\n",
    "        <b>\n",
    "        <li>Training: We will train our model on this dataset</li>\n",
    "        <li>Testing: We will use this subset to make actual predictions using trained model</li>\n",
    "        </b>\n",
    "     </ol>\n",
    "<p style='color:purple'><b>The reason we don't use same training set for testing is because our model has seen those samples before, using same samples for making predictions might give us wrong impression about accuracy of our model. It is like you ask same questions in exam paper as you taught the students in the class.\n",
    "</b></p>"
   ]
  },
  {
   "cell_type": "code",
   "execution_count": 11,
   "metadata": {},
   "outputs": [],
   "source": [
    "X = df[['Bank Charges','Conveyance (Maint)','Depreciation','DTH Charges','Electrical Repair','General Repair','Gift Expenses (Maint)','Guest expenses (Maint)','Hiring Labour Charges','Insurance Premium','Internet Charges','Labour Charges','Laundry Charges','Light and Decoration','Listed property account','Mobile recharge','Prepaid Insurance Maint','Petrol','Printing and Stationery','Purchase (Diesel)','Purchase (Maint)','Purchase (Electrical items)','Rent and Allied charges (Maint)','Room maintenance','Uniform charges','Wages (Maint)','Party decoration','Maintenance','Miscellaneous','Diesel for OMQ','Electrical purchase','Rent and Allied charges O/S','WOC property items','Balance C/F','Total']]"
   ]
  },
  {
   "cell_type": "code",
   "execution_count": 12,
   "metadata": {},
   "outputs": [],
   "source": [
    "y = df['Growth%']"
   ]
  },
  {
   "cell_type": "code",
   "execution_count": 15,
   "metadata": {},
   "outputs": [],
   "source": [
    "from sklearn.model_selection import train_test_split\n",
    "X_train, X_test, y_train, y_test = train_test_split(X,y,test_size=0.2) "
   ]
  },
  {
   "cell_type": "code",
   "execution_count": 16,
   "metadata": {
    "scrolled": true
   },
   "outputs": [
    {
     "data": {
      "text/html": [
       "<div>\n",
       "<style scoped>\n",
       "    .dataframe tbody tr th:only-of-type {\n",
       "        vertical-align: middle;\n",
       "    }\n",
       "\n",
       "    .dataframe tbody tr th {\n",
       "        vertical-align: top;\n",
       "    }\n",
       "\n",
       "    .dataframe thead th {\n",
       "        text-align: right;\n",
       "    }\n",
       "</style>\n",
       "<table border=\"1\" class=\"dataframe\">\n",
       "  <thead>\n",
       "    <tr style=\"text-align: right;\">\n",
       "      <th></th>\n",
       "      <th>Bank Charges</th>\n",
       "      <th>Conveyance (Maint)</th>\n",
       "      <th>Depreciation</th>\n",
       "      <th>DTH Charges</th>\n",
       "      <th>Electrical Repair</th>\n",
       "      <th>General Repair</th>\n",
       "      <th>Gift Expenses (Maint)</th>\n",
       "      <th>Guest expenses (Maint)</th>\n",
       "      <th>Hiring Labour Charges</th>\n",
       "      <th>Insurance Premium</th>\n",
       "      <th>...</th>\n",
       "      <th>Wages (Maint)</th>\n",
       "      <th>Party decoration</th>\n",
       "      <th>Maintenance</th>\n",
       "      <th>Miscellaneous</th>\n",
       "      <th>Diesel for OMQ</th>\n",
       "      <th>Electrical purchase</th>\n",
       "      <th>Rent and Allied charges O/S</th>\n",
       "      <th>WOC property items</th>\n",
       "      <th>Balance C/F</th>\n",
       "      <th>Total</th>\n",
       "    </tr>\n",
       "  </thead>\n",
       "  <tbody>\n",
       "    <tr>\n",
       "      <th>2</th>\n",
       "      <td>236</td>\n",
       "      <td>12500</td>\n",
       "      <td>747291.99</td>\n",
       "      <td>91004</td>\n",
       "      <td>115751</td>\n",
       "      <td>104718</td>\n",
       "      <td>0</td>\n",
       "      <td>0</td>\n",
       "      <td>23500</td>\n",
       "      <td>1880</td>\n",
       "      <td>...</td>\n",
       "      <td>295218</td>\n",
       "      <td>8500</td>\n",
       "      <td>178659</td>\n",
       "      <td>0</td>\n",
       "      <td>0</td>\n",
       "      <td>0</td>\n",
       "      <td>0</td>\n",
       "      <td>237585.49</td>\n",
       "      <td>0</td>\n",
       "      <td>3144106.48</td>\n",
       "    </tr>\n",
       "    <tr>\n",
       "      <th>3</th>\n",
       "      <td>4432</td>\n",
       "      <td>19590</td>\n",
       "      <td>691168.10</td>\n",
       "      <td>87341</td>\n",
       "      <td>231962</td>\n",
       "      <td>111870</td>\n",
       "      <td>0</td>\n",
       "      <td>0</td>\n",
       "      <td>1500</td>\n",
       "      <td>2058</td>\n",
       "      <td>...</td>\n",
       "      <td>197757</td>\n",
       "      <td>0</td>\n",
       "      <td>330136</td>\n",
       "      <td>0</td>\n",
       "      <td>0</td>\n",
       "      <td>0</td>\n",
       "      <td>0</td>\n",
       "      <td>97319.26</td>\n",
       "      <td>0</td>\n",
       "      <td>2855557.36</td>\n",
       "    </tr>\n",
       "    <tr>\n",
       "      <th>0</th>\n",
       "      <td>2837</td>\n",
       "      <td>0</td>\n",
       "      <td>659240.00</td>\n",
       "      <td>85603</td>\n",
       "      <td>215841</td>\n",
       "      <td>718357</td>\n",
       "      <td>0</td>\n",
       "      <td>0</td>\n",
       "      <td>0</td>\n",
       "      <td>0</td>\n",
       "      <td>...</td>\n",
       "      <td>84800</td>\n",
       "      <td>0</td>\n",
       "      <td>0</td>\n",
       "      <td>177854</td>\n",
       "      <td>27641</td>\n",
       "      <td>31073</td>\n",
       "      <td>22188</td>\n",
       "      <td>45173.00</td>\n",
       "      <td>438023</td>\n",
       "      <td>3829571.00</td>\n",
       "    </tr>\n",
       "  </tbody>\n",
       "</table>\n",
       "<p>3 rows × 35 columns</p>\n",
       "</div>"
      ],
      "text/plain": [
       "   Bank Charges  Conveyance (Maint)  Depreciation  DTH Charges  \\\n",
       "2           236               12500     747291.99        91004   \n",
       "3          4432               19590     691168.10        87341   \n",
       "0          2837                   0     659240.00        85603   \n",
       "\n",
       "   Electrical Repair  General Repair  Gift Expenses (Maint)  \\\n",
       "2             115751          104718                      0   \n",
       "3             231962          111870                      0   \n",
       "0             215841          718357                      0   \n",
       "\n",
       "   Guest expenses (Maint)  Hiring Labour Charges  Insurance Premium  ...  \\\n",
       "2                       0                  23500               1880  ...   \n",
       "3                       0                   1500               2058  ...   \n",
       "0                       0                      0                  0  ...   \n",
       "\n",
       "   Wages (Maint)  Party decoration  Maintenance  Miscellaneous  \\\n",
       "2         295218              8500       178659              0   \n",
       "3         197757                 0       330136              0   \n",
       "0          84800                 0            0         177854   \n",
       "\n",
       "   Diesel for OMQ  Electrical purchase  Rent and Allied charges O/S  \\\n",
       "2               0                    0                            0   \n",
       "3               0                    0                            0   \n",
       "0           27641                31073                        22188   \n",
       "\n",
       "   WOC property items  Balance C/F       Total  \n",
       "2           237585.49            0  3144106.48  \n",
       "3            97319.26            0  2855557.36  \n",
       "0            45173.00       438023  3829571.00  \n",
       "\n",
       "[3 rows x 35 columns]"
      ]
     },
     "execution_count": 16,
     "metadata": {},
     "output_type": "execute_result"
    }
   ],
   "source": [
    "X_train"
   ]
  },
  {
   "cell_type": "code",
   "execution_count": 17,
   "metadata": {},
   "outputs": [
    {
     "data": {
      "text/html": [
       "<div>\n",
       "<style scoped>\n",
       "    .dataframe tbody tr th:only-of-type {\n",
       "        vertical-align: middle;\n",
       "    }\n",
       "\n",
       "    .dataframe tbody tr th {\n",
       "        vertical-align: top;\n",
       "    }\n",
       "\n",
       "    .dataframe thead th {\n",
       "        text-align: right;\n",
       "    }\n",
       "</style>\n",
       "<table border=\"1\" class=\"dataframe\">\n",
       "  <thead>\n",
       "    <tr style=\"text-align: right;\">\n",
       "      <th></th>\n",
       "      <th>Bank Charges</th>\n",
       "      <th>Conveyance (Maint)</th>\n",
       "      <th>Depreciation</th>\n",
       "      <th>DTH Charges</th>\n",
       "      <th>Electrical Repair</th>\n",
       "      <th>General Repair</th>\n",
       "      <th>Gift Expenses (Maint)</th>\n",
       "      <th>Guest expenses (Maint)</th>\n",
       "      <th>Hiring Labour Charges</th>\n",
       "      <th>Insurance Premium</th>\n",
       "      <th>...</th>\n",
       "      <th>Wages (Maint)</th>\n",
       "      <th>Party decoration</th>\n",
       "      <th>Maintenance</th>\n",
       "      <th>Miscellaneous</th>\n",
       "      <th>Diesel for OMQ</th>\n",
       "      <th>Electrical purchase</th>\n",
       "      <th>Rent and Allied charges O/S</th>\n",
       "      <th>WOC property items</th>\n",
       "      <th>Balance C/F</th>\n",
       "      <th>Total</th>\n",
       "    </tr>\n",
       "  </thead>\n",
       "  <tbody>\n",
       "    <tr>\n",
       "      <th>1</th>\n",
       "      <td>266</td>\n",
       "      <td>20250</td>\n",
       "      <td>791534.49</td>\n",
       "      <td>66872</td>\n",
       "      <td>125925</td>\n",
       "      <td>203113</td>\n",
       "      <td>36616</td>\n",
       "      <td>100000</td>\n",
       "      <td>128960</td>\n",
       "      <td>1873</td>\n",
       "      <td>...</td>\n",
       "      <td>96400</td>\n",
       "      <td>0</td>\n",
       "      <td>0</td>\n",
       "      <td>1508</td>\n",
       "      <td>0</td>\n",
       "      <td>0</td>\n",
       "      <td>0</td>\n",
       "      <td>223674.29</td>\n",
       "      <td>384052</td>\n",
       "      <td>3480395.0</td>\n",
       "    </tr>\n",
       "  </tbody>\n",
       "</table>\n",
       "<p>1 rows × 35 columns</p>\n",
       "</div>"
      ],
      "text/plain": [
       "   Bank Charges  Conveyance (Maint)  Depreciation  DTH Charges  \\\n",
       "1           266               20250     791534.49        66872   \n",
       "\n",
       "   Electrical Repair  General Repair  Gift Expenses (Maint)  \\\n",
       "1             125925          203113                  36616   \n",
       "\n",
       "   Guest expenses (Maint)  Hiring Labour Charges  Insurance Premium  ...  \\\n",
       "1                  100000                 128960               1873  ...   \n",
       "\n",
       "   Wages (Maint)  Party decoration  Maintenance  Miscellaneous  \\\n",
       "1          96400                 0            0           1508   \n",
       "\n",
       "   Diesel for OMQ  Electrical purchase  Rent and Allied charges O/S  \\\n",
       "1               0                    0                            0   \n",
       "\n",
       "   WOC property items  Balance C/F      Total  \n",
       "1           223674.29       384052  3480395.0  \n",
       "\n",
       "[1 rows x 35 columns]"
      ]
     },
     "execution_count": 17,
     "metadata": {},
     "output_type": "execute_result"
    }
   ],
   "source": [
    "X_test"
   ]
  },
  {
   "cell_type": "code",
   "execution_count": 18,
   "metadata": {},
   "outputs": [
    {
     "data": {
      "text/plain": [
       "2    1.99\n",
       "3    1.16\n",
       "0    9.27\n",
       "Name: Growth%, dtype: float64"
      ]
     },
     "execution_count": 18,
     "metadata": {},
     "output_type": "execute_result"
    }
   ],
   "source": [
    "y_train"
   ]
  },
  {
   "cell_type": "code",
   "execution_count": 19,
   "metadata": {},
   "outputs": [
    {
     "data": {
      "text/plain": [
       "1    5.11\n",
       "Name: Growth%, dtype: float64"
      ]
     },
     "execution_count": 19,
     "metadata": {},
     "output_type": "execute_result"
    }
   ],
   "source": [
    "y_test"
   ]
  },
  {
   "cell_type": "markdown",
   "metadata": {},
   "source": [
    "**Lets run linear regression model now**"
   ]
  },
  {
   "cell_type": "code",
   "execution_count": 20,
   "metadata": {},
   "outputs": [
    {
     "data": {
      "text/plain": [
       "LinearRegression()"
      ]
     },
     "execution_count": 20,
     "metadata": {},
     "output_type": "execute_result"
    }
   ],
   "source": [
    "from sklearn.linear_model import LinearRegression\n",
    "clf = LinearRegression()\n",
    "clf.fit(X_train, y_train)"
   ]
  },
  {
   "cell_type": "code",
   "execution_count": 21,
   "metadata": {},
   "outputs": [
    {
     "data": {
      "text/html": [
       "<div>\n",
       "<style scoped>\n",
       "    .dataframe tbody tr th:only-of-type {\n",
       "        vertical-align: middle;\n",
       "    }\n",
       "\n",
       "    .dataframe tbody tr th {\n",
       "        vertical-align: top;\n",
       "    }\n",
       "\n",
       "    .dataframe thead th {\n",
       "        text-align: right;\n",
       "    }\n",
       "</style>\n",
       "<table border=\"1\" class=\"dataframe\">\n",
       "  <thead>\n",
       "    <tr style=\"text-align: right;\">\n",
       "      <th></th>\n",
       "      <th>Bank Charges</th>\n",
       "      <th>Conveyance (Maint)</th>\n",
       "      <th>Depreciation</th>\n",
       "      <th>DTH Charges</th>\n",
       "      <th>Electrical Repair</th>\n",
       "      <th>General Repair</th>\n",
       "      <th>Gift Expenses (Maint)</th>\n",
       "      <th>Guest expenses (Maint)</th>\n",
       "      <th>Hiring Labour Charges</th>\n",
       "      <th>Insurance Premium</th>\n",
       "      <th>...</th>\n",
       "      <th>Wages (Maint)</th>\n",
       "      <th>Party decoration</th>\n",
       "      <th>Maintenance</th>\n",
       "      <th>Miscellaneous</th>\n",
       "      <th>Diesel for OMQ</th>\n",
       "      <th>Electrical purchase</th>\n",
       "      <th>Rent and Allied charges O/S</th>\n",
       "      <th>WOC property items</th>\n",
       "      <th>Balance C/F</th>\n",
       "      <th>Total</th>\n",
       "    </tr>\n",
       "  </thead>\n",
       "  <tbody>\n",
       "    <tr>\n",
       "      <th>1</th>\n",
       "      <td>266</td>\n",
       "      <td>20250</td>\n",
       "      <td>791534.49</td>\n",
       "      <td>66872</td>\n",
       "      <td>125925</td>\n",
       "      <td>203113</td>\n",
       "      <td>36616</td>\n",
       "      <td>100000</td>\n",
       "      <td>128960</td>\n",
       "      <td>1873</td>\n",
       "      <td>...</td>\n",
       "      <td>96400</td>\n",
       "      <td>0</td>\n",
       "      <td>0</td>\n",
       "      <td>1508</td>\n",
       "      <td>0</td>\n",
       "      <td>0</td>\n",
       "      <td>0</td>\n",
       "      <td>223674.29</td>\n",
       "      <td>384052</td>\n",
       "      <td>3480395.0</td>\n",
       "    </tr>\n",
       "  </tbody>\n",
       "</table>\n",
       "<p>1 rows × 35 columns</p>\n",
       "</div>"
      ],
      "text/plain": [
       "   Bank Charges  Conveyance (Maint)  Depreciation  DTH Charges  \\\n",
       "1           266               20250     791534.49        66872   \n",
       "\n",
       "   Electrical Repair  General Repair  Gift Expenses (Maint)  \\\n",
       "1             125925          203113                  36616   \n",
       "\n",
       "   Guest expenses (Maint)  Hiring Labour Charges  Insurance Premium  ...  \\\n",
       "1                  100000                 128960               1873  ...   \n",
       "\n",
       "   Wages (Maint)  Party decoration  Maintenance  Miscellaneous  \\\n",
       "1          96400                 0            0           1508   \n",
       "\n",
       "   Diesel for OMQ  Electrical purchase  Rent and Allied charges O/S  \\\n",
       "1               0                    0                            0   \n",
       "\n",
       "   WOC property items  Balance C/F      Total  \n",
       "1           223674.29       384052  3480395.0  \n",
       "\n",
       "[1 rows x 35 columns]"
      ]
     },
     "execution_count": 21,
     "metadata": {},
     "output_type": "execute_result"
    }
   ],
   "source": [
    "X_test"
   ]
  },
  {
   "cell_type": "code",
   "execution_count": 22,
   "metadata": {
    "scrolled": true
   },
   "outputs": [
    {
     "data": {
      "text/plain": [
       "array([5.085702])"
      ]
     },
     "execution_count": 22,
     "metadata": {},
     "output_type": "execute_result"
    }
   ],
   "source": [
    "clf.predict(X_test)"
   ]
  },
  {
   "cell_type": "code",
   "execution_count": 23,
   "metadata": {},
   "outputs": [
    {
     "data": {
      "text/plain": [
       "1    5.11\n",
       "Name: Growth%, dtype: float64"
      ]
     },
     "execution_count": 23,
     "metadata": {},
     "output_type": "execute_result"
    }
   ],
   "source": [
    "y_test"
   ]
  },
  {
   "cell_type": "markdown",
   "metadata": {},
   "source": [
    "# It can be seen that model predicted the Growth % as 5.08 as compared to actual 5.11. This suggests that model is fairly accurate for the dataset. Further, prediction for any year can be made by following steps:"
   ]
  },
  {
   "cell_type": "markdown",
   "metadata": {},
   "source": [
    "**random_state argument**"
   ]
  },
  {
   "cell_type": "markdown",
   "metadata": {
    "scrolled": true
   },
   "source": [
    "clf.predict('236,12500,747291.99,91004,115751,104718,0,0,23500,1880,45611,7200,27947,31000,320611,0,0,0,37453,0,391408,36503,347381,75649,6500,295218,8500,178659,0,0,0,0,237585.49,0,3144106.48'\n",
    ")"
   ]
  },
  {
   "cell_type": "markdown",
   "metadata": {},
   "source": [
    "clf.predict('236','12500','747291.99','91004','115751','104718','0','0','23500','1880','45611','7200','27947','31000','320611','0','0','0','37453','0','391408','36503','347381','75649','6500','295218','8500','178659','0','0','0','0','237585.49','0','3144106.48'\n",
    ")"
   ]
  },
  {
   "cell_type": "code",
   "execution_count": 39,
   "metadata": {},
   "outputs": [
    {
     "data": {
      "text/html": [
       "<div>\n",
       "<style scoped>\n",
       "    .dataframe tbody tr th:only-of-type {\n",
       "        vertical-align: middle;\n",
       "    }\n",
       "\n",
       "    .dataframe tbody tr th {\n",
       "        vertical-align: top;\n",
       "    }\n",
       "\n",
       "    .dataframe thead th {\n",
       "        text-align: right;\n",
       "    }\n",
       "</style>\n",
       "<table border=\"1\" class=\"dataframe\">\n",
       "  <thead>\n",
       "    <tr style=\"text-align: right;\">\n",
       "      <th></th>\n",
       "      <th>Bank Charges</th>\n",
       "      <th>Conveyance (Maint)</th>\n",
       "      <th>Depreciation</th>\n",
       "      <th>DTH Charges</th>\n",
       "      <th>Electrical Repair</th>\n",
       "      <th>General Repair</th>\n",
       "      <th>Gift Expenses (Maint)</th>\n",
       "      <th>Guest expenses (Maint)</th>\n",
       "      <th>Hiring Labour Charges</th>\n",
       "      <th>Insurance Premium</th>\n",
       "      <th>...</th>\n",
       "      <th>Wages (Maint)</th>\n",
       "      <th>Party decoration</th>\n",
       "      <th>Maintenance</th>\n",
       "      <th>Miscellaneous</th>\n",
       "      <th>Diesel for OMQ</th>\n",
       "      <th>Electrical purchase</th>\n",
       "      <th>Rent and Allied charges O/S</th>\n",
       "      <th>WOC property items</th>\n",
       "      <th>Balance C/F</th>\n",
       "      <th>Total</th>\n",
       "    </tr>\n",
       "  </thead>\n",
       "  <tbody>\n",
       "    <tr>\n",
       "      <th>0</th>\n",
       "      <td>2837</td>\n",
       "      <td>0</td>\n",
       "      <td>659240.00</td>\n",
       "      <td>85603</td>\n",
       "      <td>215841</td>\n",
       "      <td>718357</td>\n",
       "      <td>0</td>\n",
       "      <td>0</td>\n",
       "      <td>0</td>\n",
       "      <td>0</td>\n",
       "      <td>...</td>\n",
       "      <td>84800</td>\n",
       "      <td>0</td>\n",
       "      <td>0</td>\n",
       "      <td>177854</td>\n",
       "      <td>27641</td>\n",
       "      <td>31073</td>\n",
       "      <td>22188</td>\n",
       "      <td>45173.00</td>\n",
       "      <td>438023</td>\n",
       "      <td>3829571.00</td>\n",
       "    </tr>\n",
       "    <tr>\n",
       "      <th>1</th>\n",
       "      <td>266</td>\n",
       "      <td>20250</td>\n",
       "      <td>791534.49</td>\n",
       "      <td>66872</td>\n",
       "      <td>125925</td>\n",
       "      <td>203113</td>\n",
       "      <td>36616</td>\n",
       "      <td>100000</td>\n",
       "      <td>128960</td>\n",
       "      <td>1873</td>\n",
       "      <td>...</td>\n",
       "      <td>96400</td>\n",
       "      <td>0</td>\n",
       "      <td>0</td>\n",
       "      <td>1508</td>\n",
       "      <td>0</td>\n",
       "      <td>0</td>\n",
       "      <td>0</td>\n",
       "      <td>223674.29</td>\n",
       "      <td>384052</td>\n",
       "      <td>3480395.00</td>\n",
       "    </tr>\n",
       "    <tr>\n",
       "      <th>2</th>\n",
       "      <td>236</td>\n",
       "      <td>12500</td>\n",
       "      <td>747291.99</td>\n",
       "      <td>91004</td>\n",
       "      <td>115751</td>\n",
       "      <td>104718</td>\n",
       "      <td>0</td>\n",
       "      <td>0</td>\n",
       "      <td>23500</td>\n",
       "      <td>1880</td>\n",
       "      <td>...</td>\n",
       "      <td>295218</td>\n",
       "      <td>8500</td>\n",
       "      <td>178659</td>\n",
       "      <td>0</td>\n",
       "      <td>0</td>\n",
       "      <td>0</td>\n",
       "      <td>0</td>\n",
       "      <td>237585.49</td>\n",
       "      <td>0</td>\n",
       "      <td>3144106.48</td>\n",
       "    </tr>\n",
       "    <tr>\n",
       "      <th>3</th>\n",
       "      <td>4432</td>\n",
       "      <td>19590</td>\n",
       "      <td>691168.10</td>\n",
       "      <td>87341</td>\n",
       "      <td>231962</td>\n",
       "      <td>111870</td>\n",
       "      <td>0</td>\n",
       "      <td>0</td>\n",
       "      <td>1500</td>\n",
       "      <td>2058</td>\n",
       "      <td>...</td>\n",
       "      <td>197757</td>\n",
       "      <td>0</td>\n",
       "      <td>330136</td>\n",
       "      <td>0</td>\n",
       "      <td>0</td>\n",
       "      <td>0</td>\n",
       "      <td>0</td>\n",
       "      <td>97319.26</td>\n",
       "      <td>0</td>\n",
       "      <td>2855557.36</td>\n",
       "    </tr>\n",
       "  </tbody>\n",
       "</table>\n",
       "<p>4 rows × 35 columns</p>\n",
       "</div>"
      ],
      "text/plain": [
       "   Bank Charges  Conveyance (Maint)  Depreciation  DTH Charges  \\\n",
       "0          2837                   0     659240.00        85603   \n",
       "1           266               20250     791534.49        66872   \n",
       "2           236               12500     747291.99        91004   \n",
       "3          4432               19590     691168.10        87341   \n",
       "\n",
       "   Electrical Repair  General Repair  Gift Expenses (Maint)  \\\n",
       "0             215841          718357                      0   \n",
       "1             125925          203113                  36616   \n",
       "2             115751          104718                      0   \n",
       "3             231962          111870                      0   \n",
       "\n",
       "   Guest expenses (Maint)  Hiring Labour Charges  Insurance Premium  ...  \\\n",
       "0                       0                      0                  0  ...   \n",
       "1                  100000                 128960               1873  ...   \n",
       "2                       0                  23500               1880  ...   \n",
       "3                       0                   1500               2058  ...   \n",
       "\n",
       "   Wages (Maint)  Party decoration  Maintenance  Miscellaneous  \\\n",
       "0          84800                 0            0         177854   \n",
       "1          96400                 0            0           1508   \n",
       "2         295218              8500       178659              0   \n",
       "3         197757                 0       330136              0   \n",
       "\n",
       "   Diesel for OMQ  Electrical purchase  Rent and Allied charges O/S  \\\n",
       "0           27641                31073                        22188   \n",
       "1               0                    0                            0   \n",
       "2               0                    0                            0   \n",
       "3               0                    0                            0   \n",
       "\n",
       "   WOC property items  Balance C/F       Total  \n",
       "0            45173.00       438023  3829571.00  \n",
       "1           223674.29       384052  3480395.00  \n",
       "2           237585.49            0  3144106.48  \n",
       "3            97319.26            0  2855557.36  \n",
       "\n",
       "[4 rows x 35 columns]"
      ]
     },
     "execution_count": 39,
     "metadata": {},
     "output_type": "execute_result"
    }
   ],
   "source": [
    "df[['Bank Charges','Conveyance (Maint)','Depreciation','DTH Charges','Electrical Repair','General Repair','Gift Expenses (Maint)','Guest expenses (Maint)','Hiring Labour Charges','Insurance Premium','Internet Charges','Labour Charges','Laundry Charges','Light and Decoration','Listed property account','Mobile recharge','Prepaid Insurance Maint','Petrol','Printing and Stationery','Purchase (Diesel)','Purchase (Maint)','Purchase (Electrical items)','Rent and Allied charges (Maint)','Room maintenance','Uniform charges','Wages (Maint)','Party decoration','Maintenance','Miscellaneous','Diesel for OMQ','Electrical purchase','Rent and Allied charges O/S','WOC property items','Balance C/F','Total']]"
   ]
  },
  {
   "cell_type": "code",
   "execution_count": 41,
   "metadata": {},
   "outputs": [
    {
     "data": {
      "text/plain": [
       "LinearRegression()"
      ]
     },
     "execution_count": 41,
     "metadata": {},
     "output_type": "execute_result"
    }
   ],
   "source": [
    "import numpy as np\n",
    "from sklearn import linear_model\n",
    "reg = linear_model.LinearRegression()\n",
    "reg.fit(df[['Bank Charges','Conveyance (Maint)','Depreciation','DTH Charges','Electrical Repair','General Repair','Gift Expenses (Maint)','Guest expenses (Maint)','Hiring Labour Charges','Insurance Premium','Internet Charges','Labour Charges','Laundry Charges','Light and Decoration','Listed property account','Mobile recharge','Prepaid Insurance Maint','Petrol','Printing and Stationery','Purchase (Diesel)','Purchase (Maint)','Purchase (Electrical items)','Rent and Allied charges (Maint)','Room maintenance','Uniform charges','Wages (Maint)','Party decoration','Maintenance','Miscellaneous','Diesel for OMQ','Electrical purchase','Rent and Allied charges O/S','WOC property items','Balance C/F','Total']],df['Growth%'])"
   ]
  },
  {
   "cell_type": "code",
   "execution_count": 42,
   "metadata": {},
   "outputs": [
    {
     "data": {
      "text/plain": [
       "array([ 1.16077004e-08, -5.54070021e-08, -3.88567520e-07, -2.80422755e-08,\n",
       "        4.49526910e-07,  2.78394553e-06,  5.74899351e-09,  1.57007688e-08,\n",
       "       -8.87778345e-08, -8.48923639e-09, -1.22131717e-07, -3.28787675e-08,\n",
       "        2.23913186e-08,  3.55934951e-07, -1.47407517e-06,  5.20595183e-12,\n",
       "        2.15100533e-11, -3.06530272e-10, -5.96159564e-08,  1.17771304e-09,\n",
       "       -5.92232522e-07, -1.59365363e-07, -2.38300440e-07,  2.30083538e-06,\n",
       "       -2.65631103e-08, -9.77535236e-07, -3.94176196e-08, -8.38944304e-07,\n",
       "        8.02709288e-07,  1.24715457e-07,  1.40200550e-07,  1.00111666e-07,\n",
       "       -8.65909816e-07,  2.03664725e-06,  3.15471980e-06])"
      ]
     },
     "execution_count": 42,
     "metadata": {},
     "output_type": "execute_result"
    }
   ],
   "source": [
    "reg.coef_"
   ]
  },
  {
   "cell_type": "code",
   "execution_count": 43,
   "metadata": {},
   "outputs": [
    {
     "data": {
      "text/plain": [
       "-6.716581601931433"
      ]
     },
     "execution_count": 43,
     "metadata": {},
     "output_type": "execute_result"
    }
   ],
   "source": [
    "reg.intercept_"
   ]
  },
  {
   "cell_type": "code",
   "execution_count": 44,
   "metadata": {},
   "outputs": [
    {
     "data": {
      "text/plain": [
       "array([1.99])"
      ]
     },
     "execution_count": 44,
     "metadata": {},
     "output_type": "execute_result"
    }
   ],
   "source": [
    "reg.predict([[236,12500,747291.99,91004,115751,104718,0,0,23500,1880,45611,7200,27947,31000,320611,0,0,0,37453,0,391408,36503,347381,75649,6500,295218,8500,178659,0,0,0,0,237585.49,0,3144106.48]])"
   ]
  },
  {
   "cell_type": "code",
   "execution_count": null,
   "metadata": {},
   "outputs": [],
   "source": []
  }
 ],
 "metadata": {
  "kernelspec": {
   "display_name": "Python 3 (ipykernel)",
   "language": "python",
   "name": "python3"
  },
  "language_info": {
   "codemirror_mode": {
    "name": "ipython",
    "version": 3
   },
   "file_extension": ".py",
   "mimetype": "text/x-python",
   "name": "python",
   "nbconvert_exporter": "python",
   "pygments_lexer": "ipython3",
   "version": "3.9.7"
  }
 },
 "nbformat": 4,
 "nbformat_minor": 2
}
