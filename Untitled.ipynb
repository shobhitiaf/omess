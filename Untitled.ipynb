{
 "cells": [
  {
   "cell_type": "code",
   "execution_count": 1,
   "id": "b89a2422",
   "metadata": {},
   "outputs": [],
   "source": [
    "import pandas as pd\n",
    "import dtale"
   ]
  },
  {
   "cell_type": "markdown",
   "id": "3b6b4caf",
   "metadata": {},
   "source": [
    "# dtale is one of the many libraries available for feature engineering and data visualisation."
   ]
  },
  {
   "cell_type": "code",
   "execution_count": 7,
   "id": "22ba45de",
   "metadata": {},
   "outputs": [],
   "source": [
    "import pandas as pd\n",
    "df=pd.read_csv(r\"C:\\Users\\lom\\Desktop\\banknotes.txt\")"
   ]
  },
  {
   "cell_type": "code",
   "execution_count": 8,
   "id": "bee6c246",
   "metadata": {
    "scrolled": true
   },
   "outputs": [
    {
     "data": {
      "text/plain": [
       "variance    1372\n",
       "skewness    1372\n",
       "curtosis    1372\n",
       "entropy     1372\n",
       "class       1372\n",
       "dtype: int64"
      ]
     },
     "execution_count": 8,
     "metadata": {},
     "output_type": "execute_result"
    },
    {
     "name": "stdout",
     "output_type": "stream",
     "text": [
      "Executing shutdown due to inactivity...\n"
     ]
    },
    {
     "name": "stderr",
     "output_type": "stream",
     "text": [
      "2022-04-23 22:25:25,756 - INFO     - Executing shutdown due to inactivity...\n"
     ]
    },
    {
     "name": "stdout",
     "output_type": "stream",
     "text": [
      "Executing shutdown...\n"
     ]
    },
    {
     "name": "stderr",
     "output_type": "stream",
     "text": [
      "2022-04-23 22:25:30,005 - INFO     - Executing shutdown...\n"
     ]
    }
   ],
   "source": [
    "df.count()"
   ]
  },
  {
   "cell_type": "code",
   "execution_count": 6,
   "id": "287ae1fa",
   "metadata": {},
   "outputs": [],
   "source": [
    "import pandas as pd\n",
    "df=pd.read_excel(r\"C:\\Users\\lom\\Desktop\\income.xlsx\")"
   ]
  },
  {
   "cell_type": "code",
   "execution_count": 7,
   "id": "a0994eaf",
   "metadata": {},
   "outputs": [
    {
     "data": {
      "text/html": [
       "\n",
       "        <iframe\n",
       "            width=\"100%\"\n",
       "            height=\"475\"\n",
       "            src=\"http://DESKTOP-39U6ERR:40000/dtale/iframe/3\"\n",
       "            frameborder=\"0\"\n",
       "            allowfullscreen\n",
       "            \n",
       "        ></iframe>\n",
       "        "
      ],
      "text/plain": [
       "<IPython.lib.display.IFrame at 0x24095ce37c0>"
      ]
     },
     "metadata": {},
     "output_type": "display_data"
    },
    {
     "data": {
      "text/plain": []
     },
     "execution_count": 7,
     "metadata": {},
     "output_type": "execute_result"
    },
    {
     "name": "stdout",
     "output_type": "stream",
     "text": [
      "Exception occurred while processing request: \n",
      "Image export using the \"kaleido\" engine requires the kaleido package,\n",
      "which can be installed using pip:\n",
      "    $ pip install -U kaleido\n",
      "Traceback (most recent call last):\n",
      "  File \"C:\\Users\\lom\\anaconda3\\lib\\site-packages\\dtale\\views.py\", line 114, in _handle_exceptions\n",
      "    return func(*args, **kwargs)\n",
      "  File \"C:\\Users\\lom\\anaconda3\\lib\\site-packages\\dtale\\views.py\", line 3166, in chart_export\n",
      "    output = export_png(data_id, params)\n",
      "  File \"C:\\Users\\lom\\anaconda3\\lib\\site-packages\\dtale\\dash_application\\charts.py\", line 3849, in export_png\n",
      "    write_image(chart, file=image_buffer, format=\"png\")\n",
      "  File \"C:\\Users\\lom\\anaconda3\\lib\\site-packages\\plotly\\io\\_kaleido.py\", line 268, in write_image\n",
      "    img_data = to_image(\n",
      "  File \"C:\\Users\\lom\\anaconda3\\lib\\site-packages\\plotly\\io\\_kaleido.py\", line 134, in to_image\n",
      "    raise ValueError(\n",
      "ValueError: \n",
      "Image export using the \"kaleido\" engine requires the kaleido package,\n",
      "which can be installed using pip:\n",
      "    $ pip install -U kaleido\n",
      "\n"
     ]
    },
    {
     "name": "stderr",
     "output_type": "stream",
     "text": [
      "2022-02-11 00:33:25,743 - ERROR    - Exception occurred while processing request: \n",
      "Image export using the \"kaleido\" engine requires the kaleido package,\n",
      "which can be installed using pip:\n",
      "    $ pip install -U kaleido\n",
      "Traceback (most recent call last):\n",
      "  File \"C:\\Users\\lom\\anaconda3\\lib\\site-packages\\dtale\\views.py\", line 114, in _handle_exceptions\n",
      "    return func(*args, **kwargs)\n",
      "  File \"C:\\Users\\lom\\anaconda3\\lib\\site-packages\\dtale\\views.py\", line 3166, in chart_export\n",
      "    output = export_png(data_id, params)\n",
      "  File \"C:\\Users\\lom\\anaconda3\\lib\\site-packages\\dtale\\dash_application\\charts.py\", line 3849, in export_png\n",
      "    write_image(chart, file=image_buffer, format=\"png\")\n",
      "  File \"C:\\Users\\lom\\anaconda3\\lib\\site-packages\\plotly\\io\\_kaleido.py\", line 268, in write_image\n",
      "    img_data = to_image(\n",
      "  File \"C:\\Users\\lom\\anaconda3\\lib\\site-packages\\plotly\\io\\_kaleido.py\", line 134, in to_image\n",
      "    raise ValueError(\n",
      "ValueError: \n",
      "Image export using the \"kaleido\" engine requires the kaleido package,\n",
      "which can be installed using pip:\n",
      "    $ pip install -U kaleido\n",
      "\n"
     ]
    }
   ],
   "source": [
    "df.head()\n",
    "dtale.show(df)"
   ]
  },
  {
   "cell_type": "code",
   "execution_count": null,
   "id": "5e78f7d2",
   "metadata": {},
   "outputs": [],
   "source": []
  }
 ],
 "metadata": {
  "kernelspec": {
   "display_name": "Python 3 (ipykernel)",
   "language": "python",
   "name": "python3"
  },
  "language_info": {
   "codemirror_mode": {
    "name": "ipython",
    "version": 3
   },
   "file_extension": ".py",
   "mimetype": "text/x-python",
   "name": "python",
   "nbconvert_exporter": "python",
   "pygments_lexer": "ipython3",
   "version": "3.9.7"
  }
 },
 "nbformat": 4,
 "nbformat_minor": 5
}
